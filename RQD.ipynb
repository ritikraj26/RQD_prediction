{
 "cells": [
  {
   "cell_type": "code",
   "execution_count": null,
   "id": "c657b038-b3ac-4493-9243-b5fc1100276c",
   "metadata": {},
   "outputs": [],
   "source": [
    "# Import necessary libraries\n",
    "import numpy as np\n",
    "import matplotlib.pyplot as plt\n",
    "import tensorflow as tf\n",
    "from tensorflow import keras\n",
    "from tensorflow.keras.preprocessing.image import ImageDataGenerator"
   ]
  },
  {
   "cell_type": "code",
   "execution_count": null,
   "id": "50266bd7-fa60-4a08-b3e3-0637df247483",
   "metadata": {},
   "outputs": [],
   "source": [
    "# Load the data\n",
    "train_images = np.load('train_images.npy')\n",
    "train_labels = np.load('train_labels.npy')"
   ]
  },
  {
   "cell_type": "code",
   "execution_count": null,
   "id": "f6a80429-6216-436a-8f40-9ebe7790b445",
   "metadata": {},
   "outputs": [],
   "source": [
    "# Reshape the images to be 3-dimensional (channels_last)\n",
    "train_images = train_images.reshape(-1, 224, 224, 3)"
   ]
  },
  {
   "cell_type": "code",
   "execution_count": null,
   "id": "fba7c00e-547c-4e1a-a85c-c14a2cf5de9c",
   "metadata": {},
   "outputs": [],
   "source": [
    "# Normalize the pixel values\n",
    "train_images = train_images / 255.0"
   ]
  },
  {
   "cell_type": "code",
   "execution_count": null,
   "id": "589b8724-359e-4fdf-a49e-8b54c2a4ee04",
   "metadata": {},
   "outputs": [],
   "source": [
    "# Data augmentation\n",
    "datagen = ImageDataGenerator(\n",
    "    rotation_range=20,\n",
    "    width_shift_range=0.2,\n",
    "    height_shift_range=0.2,\n",
    "    zoom_range=0.2,\n",
    "    horizontal_flip=True,\n",
    "    fill_mode='nearest'\n",
    ")\n",
    "\n",
    "train_generator = datagen.flow(\n",
    "    train_images,\n",
    "    train_labels,\n",
    "    batch_size=32,\n",
    "    subset='training'\n",
    ")"
   ]
  },
  {
   "cell_type": "code",
   "execution_count": null,
   "id": "49065fca-4bc0-491c-8d76-1bebee4edc3c",
   "metadata": {},
   "outputs": [],
   "source": [
    "# Model definition\n",
    "base_model = keras.applications.VGG16(\n",
    "    include_top=False,\n",
    "    weights='imagenet',\n",
    "    input_shape=(224, 224, 3),\n",
    "    pooling='avg'\n",
    ")\n",
    "\n",
    "x = base_model.output\n",
    "x = keras.layers.Dense(512, activation='relu')(x)\n",
    "predictions = keras.layers.Dense(1)(x)\n",
    "\n",
    "model = keras.Model(inputs=base_model.input, outputs=predictions)\n",
    "\n",
    "model.compile(optimizer='adam', loss='mse')"
   ]
  },
  {
   "cell_type": "code",
   "execution_count": null,
   "id": "90bcca2d-25f8-46ec-979a-ff663fa246f9",
   "metadata": {},
   "outputs": [],
   "source": [
    "# Model training\n",
    "history = model.fit(\n",
    "    train_generator,\n",
    "    epochs=10,\n",
    "    validation_data=train_generator,\n",
    "    validation_steps=len(train_generator) // 10,\n",
    "    steps_per_epoch=len(train_generator) // 32\n",
    ")"
   ]
  },
  {
   "cell_type": "code",
   "execution_count": null,
   "id": "5ebe4f3e-d5ad-468d-8aa2-5894cef392d6",
   "metadata": {},
   "outputs": [],
   "source": [
    "# Evaluation\n",
    "losses = history.history['loss']\n",
    "val_losses = history.history['val_loss']\n",
    "\n",
    "epochs = range(len(losses))\n",
    "\n",
    "plt.figure(figsize=(10, 6))\n",
    "plt.plot(epochs, losses, 'b', label='Training loss')\n",
    "plt.plot(epochs, val_losses, 'r', label='Validation loss')\n",
    "plt.title('Training and Validation Loss')\n",
    "plt.legend()\n",
    "plt.show()`"
   ]
  }
 ],
 "metadata": {
  "kernelspec": {
   "display_name": "Python 3 (ipykernel)",
   "language": "python",
   "name": "python3"
  },
  "language_info": {
   "codemirror_mode": {
    "name": "ipython",
    "version": 3
   },
   "file_extension": ".py",
   "mimetype": "text/x-python",
   "name": "python",
   "nbconvert_exporter": "python",
   "pygments_lexer": "ipython3",
   "version": "3.10.12"
  }
 },
 "nbformat": 4,
 "nbformat_minor": 5
}
